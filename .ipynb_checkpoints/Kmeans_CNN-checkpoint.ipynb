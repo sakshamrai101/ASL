{
 "cells": [
  {
   "cell_type": "markdown",
   "id": "6ee86731",
   "metadata": {},
   "source": [
    "# Importing Necessary Libraries"
   ]
  },
  {
   "cell_type": "code",
   "execution_count": 10,
   "id": "f92262cd",
   "metadata": {},
   "outputs": [],
   "source": [
    "import numpy as np\n",
    "import pandas as pd\n",
    "\n",
    "import matplotlib.pyplot as plt\n",
    "%matplotlib inline\n",
    "\n",
    "import seaborn as sns\n",
    "pal = sns.color_palette(\"hls\", 10)\n",
    "import sklearn.cluster as cluster\n",
    "from sklearn.decomposition import PCA, KernelPCA\n",
    "from sklearn.discriminant_analysis import LinearDiscriminantAnalysis\n",
    "from sklearn.cluster import KMeans\n",
    "import torch\n",
    "import torchvision\n",
    "import torchvision.transforms as transforms\n",
    "import torch.nn as nn\n",
    "import torch.nn.functional as F\n",
    "\n",
    "from sklearn.preprocessing import StandardScaler, OneHotEncoder\n",
    "\n",
    "from sklearn.datasets import fetch_openml\n",
    "\n",
    "\n",
    "from sklearn.model_selection import train_test_split, cross_val_score, GridSearchCV\n",
    "\n",
    "\n",
    "from sklearn.metrics import adjusted_rand_score, adjusted_mutual_info_score, classification_report"
   ]
  },
  {
   "cell_type": "markdown",
   "id": "68c75fcc",
   "metadata": {},
   "source": [
    "# Preparing Training and Test Data"
   ]
  },
  {
   "cell_type": "code",
   "execution_count": 21,
   "id": "c9b79822",
   "metadata": {},
   "outputs": [],
   "source": [
    "train = pd.read_csv(\"data/sign_mnist_train.csv\")\n",
    "test = pd.read_csv(\"data/sign_mnist_test.csv\")"
   ]
  },
  {
   "cell_type": "code",
   "execution_count": 25,
   "id": "008d018d",
   "metadata": {},
   "outputs": [],
   "source": [
    "extract_test = test.drop(columns=\"label\")\n",
    "test_data = extract_test.values\n",
    "test_labels = test.get(\"label\")"
   ]
  },
  {
   "cell_type": "code",
   "execution_count": 3,
   "id": "10f64c7e",
   "metadata": {},
   "outputs": [
    {
     "data": {
      "text/html": [
       "<div>\n",
       "<style scoped>\n",
       "    .dataframe tbody tr th:only-of-type {\n",
       "        vertical-align: middle;\n",
       "    }\n",
       "\n",
       "    .dataframe tbody tr th {\n",
       "        vertical-align: top;\n",
       "    }\n",
       "\n",
       "    .dataframe thead th {\n",
       "        text-align: right;\n",
       "    }\n",
       "</style>\n",
       "<table border=\"1\" class=\"dataframe\">\n",
       "  <thead>\n",
       "    <tr style=\"text-align: right;\">\n",
       "      <th></th>\n",
       "      <th>label</th>\n",
       "      <th>pixel1</th>\n",
       "      <th>pixel2</th>\n",
       "      <th>pixel3</th>\n",
       "      <th>pixel4</th>\n",
       "      <th>pixel5</th>\n",
       "      <th>pixel6</th>\n",
       "      <th>pixel7</th>\n",
       "      <th>pixel8</th>\n",
       "      <th>pixel9</th>\n",
       "      <th>...</th>\n",
       "      <th>pixel775</th>\n",
       "      <th>pixel776</th>\n",
       "      <th>pixel777</th>\n",
       "      <th>pixel778</th>\n",
       "      <th>pixel779</th>\n",
       "      <th>pixel780</th>\n",
       "      <th>pixel781</th>\n",
       "      <th>pixel782</th>\n",
       "      <th>pixel783</th>\n",
       "      <th>pixel784</th>\n",
       "    </tr>\n",
       "  </thead>\n",
       "  <tbody>\n",
       "    <tr>\n",
       "      <th>0</th>\n",
       "      <td>3</td>\n",
       "      <td>107</td>\n",
       "      <td>118</td>\n",
       "      <td>127</td>\n",
       "      <td>134</td>\n",
       "      <td>139</td>\n",
       "      <td>143</td>\n",
       "      <td>146</td>\n",
       "      <td>150</td>\n",
       "      <td>153</td>\n",
       "      <td>...</td>\n",
       "      <td>207</td>\n",
       "      <td>207</td>\n",
       "      <td>207</td>\n",
       "      <td>207</td>\n",
       "      <td>206</td>\n",
       "      <td>206</td>\n",
       "      <td>206</td>\n",
       "      <td>204</td>\n",
       "      <td>203</td>\n",
       "      <td>202</td>\n",
       "    </tr>\n",
       "    <tr>\n",
       "      <th>1</th>\n",
       "      <td>6</td>\n",
       "      <td>155</td>\n",
       "      <td>157</td>\n",
       "      <td>156</td>\n",
       "      <td>156</td>\n",
       "      <td>156</td>\n",
       "      <td>157</td>\n",
       "      <td>156</td>\n",
       "      <td>158</td>\n",
       "      <td>158</td>\n",
       "      <td>...</td>\n",
       "      <td>69</td>\n",
       "      <td>149</td>\n",
       "      <td>128</td>\n",
       "      <td>87</td>\n",
       "      <td>94</td>\n",
       "      <td>163</td>\n",
       "      <td>175</td>\n",
       "      <td>103</td>\n",
       "      <td>135</td>\n",
       "      <td>149</td>\n",
       "    </tr>\n",
       "    <tr>\n",
       "      <th>2</th>\n",
       "      <td>2</td>\n",
       "      <td>187</td>\n",
       "      <td>188</td>\n",
       "      <td>188</td>\n",
       "      <td>187</td>\n",
       "      <td>187</td>\n",
       "      <td>186</td>\n",
       "      <td>187</td>\n",
       "      <td>188</td>\n",
       "      <td>187</td>\n",
       "      <td>...</td>\n",
       "      <td>202</td>\n",
       "      <td>201</td>\n",
       "      <td>200</td>\n",
       "      <td>199</td>\n",
       "      <td>198</td>\n",
       "      <td>199</td>\n",
       "      <td>198</td>\n",
       "      <td>195</td>\n",
       "      <td>194</td>\n",
       "      <td>195</td>\n",
       "    </tr>\n",
       "    <tr>\n",
       "      <th>3</th>\n",
       "      <td>2</td>\n",
       "      <td>211</td>\n",
       "      <td>211</td>\n",
       "      <td>212</td>\n",
       "      <td>212</td>\n",
       "      <td>211</td>\n",
       "      <td>210</td>\n",
       "      <td>211</td>\n",
       "      <td>210</td>\n",
       "      <td>210</td>\n",
       "      <td>...</td>\n",
       "      <td>235</td>\n",
       "      <td>234</td>\n",
       "      <td>233</td>\n",
       "      <td>231</td>\n",
       "      <td>230</td>\n",
       "      <td>226</td>\n",
       "      <td>225</td>\n",
       "      <td>222</td>\n",
       "      <td>229</td>\n",
       "      <td>163</td>\n",
       "    </tr>\n",
       "    <tr>\n",
       "      <th>4</th>\n",
       "      <td>13</td>\n",
       "      <td>164</td>\n",
       "      <td>167</td>\n",
       "      <td>170</td>\n",
       "      <td>172</td>\n",
       "      <td>176</td>\n",
       "      <td>179</td>\n",
       "      <td>180</td>\n",
       "      <td>184</td>\n",
       "      <td>185</td>\n",
       "      <td>...</td>\n",
       "      <td>92</td>\n",
       "      <td>105</td>\n",
       "      <td>105</td>\n",
       "      <td>108</td>\n",
       "      <td>133</td>\n",
       "      <td>163</td>\n",
       "      <td>157</td>\n",
       "      <td>163</td>\n",
       "      <td>164</td>\n",
       "      <td>179</td>\n",
       "    </tr>\n",
       "    <tr>\n",
       "      <th>...</th>\n",
       "      <td>...</td>\n",
       "      <td>...</td>\n",
       "      <td>...</td>\n",
       "      <td>...</td>\n",
       "      <td>...</td>\n",
       "      <td>...</td>\n",
       "      <td>...</td>\n",
       "      <td>...</td>\n",
       "      <td>...</td>\n",
       "      <td>...</td>\n",
       "      <td>...</td>\n",
       "      <td>...</td>\n",
       "      <td>...</td>\n",
       "      <td>...</td>\n",
       "      <td>...</td>\n",
       "      <td>...</td>\n",
       "      <td>...</td>\n",
       "      <td>...</td>\n",
       "      <td>...</td>\n",
       "      <td>...</td>\n",
       "      <td>...</td>\n",
       "    </tr>\n",
       "    <tr>\n",
       "      <th>27450</th>\n",
       "      <td>13</td>\n",
       "      <td>189</td>\n",
       "      <td>189</td>\n",
       "      <td>190</td>\n",
       "      <td>190</td>\n",
       "      <td>192</td>\n",
       "      <td>193</td>\n",
       "      <td>193</td>\n",
       "      <td>193</td>\n",
       "      <td>193</td>\n",
       "      <td>...</td>\n",
       "      <td>132</td>\n",
       "      <td>165</td>\n",
       "      <td>99</td>\n",
       "      <td>77</td>\n",
       "      <td>52</td>\n",
       "      <td>200</td>\n",
       "      <td>234</td>\n",
       "      <td>200</td>\n",
       "      <td>222</td>\n",
       "      <td>225</td>\n",
       "    </tr>\n",
       "    <tr>\n",
       "      <th>27451</th>\n",
       "      <td>23</td>\n",
       "      <td>151</td>\n",
       "      <td>154</td>\n",
       "      <td>157</td>\n",
       "      <td>158</td>\n",
       "      <td>160</td>\n",
       "      <td>161</td>\n",
       "      <td>163</td>\n",
       "      <td>164</td>\n",
       "      <td>166</td>\n",
       "      <td>...</td>\n",
       "      <td>198</td>\n",
       "      <td>198</td>\n",
       "      <td>198</td>\n",
       "      <td>198</td>\n",
       "      <td>198</td>\n",
       "      <td>196</td>\n",
       "      <td>195</td>\n",
       "      <td>195</td>\n",
       "      <td>195</td>\n",
       "      <td>194</td>\n",
       "    </tr>\n",
       "    <tr>\n",
       "      <th>27452</th>\n",
       "      <td>18</td>\n",
       "      <td>174</td>\n",
       "      <td>174</td>\n",
       "      <td>174</td>\n",
       "      <td>174</td>\n",
       "      <td>174</td>\n",
       "      <td>175</td>\n",
       "      <td>175</td>\n",
       "      <td>174</td>\n",
       "      <td>173</td>\n",
       "      <td>...</td>\n",
       "      <td>121</td>\n",
       "      <td>196</td>\n",
       "      <td>209</td>\n",
       "      <td>208</td>\n",
       "      <td>206</td>\n",
       "      <td>204</td>\n",
       "      <td>203</td>\n",
       "      <td>202</td>\n",
       "      <td>200</td>\n",
       "      <td>200</td>\n",
       "    </tr>\n",
       "    <tr>\n",
       "      <th>27453</th>\n",
       "      <td>17</td>\n",
       "      <td>177</td>\n",
       "      <td>181</td>\n",
       "      <td>184</td>\n",
       "      <td>185</td>\n",
       "      <td>187</td>\n",
       "      <td>189</td>\n",
       "      <td>190</td>\n",
       "      <td>191</td>\n",
       "      <td>191</td>\n",
       "      <td>...</td>\n",
       "      <td>119</td>\n",
       "      <td>56</td>\n",
       "      <td>27</td>\n",
       "      <td>58</td>\n",
       "      <td>102</td>\n",
       "      <td>79</td>\n",
       "      <td>47</td>\n",
       "      <td>64</td>\n",
       "      <td>87</td>\n",
       "      <td>93</td>\n",
       "    </tr>\n",
       "    <tr>\n",
       "      <th>27454</th>\n",
       "      <td>23</td>\n",
       "      <td>179</td>\n",
       "      <td>180</td>\n",
       "      <td>180</td>\n",
       "      <td>180</td>\n",
       "      <td>182</td>\n",
       "      <td>181</td>\n",
       "      <td>182</td>\n",
       "      <td>183</td>\n",
       "      <td>182</td>\n",
       "      <td>...</td>\n",
       "      <td>108</td>\n",
       "      <td>132</td>\n",
       "      <td>170</td>\n",
       "      <td>194</td>\n",
       "      <td>214</td>\n",
       "      <td>203</td>\n",
       "      <td>197</td>\n",
       "      <td>205</td>\n",
       "      <td>209</td>\n",
       "      <td>215</td>\n",
       "    </tr>\n",
       "  </tbody>\n",
       "</table>\n",
       "<p>27455 rows × 785 columns</p>\n",
       "</div>"
      ],
      "text/plain": [
       "       label  pixel1  pixel2  pixel3  pixel4  pixel5  pixel6  pixel7  pixel8  \\\n",
       "0          3     107     118     127     134     139     143     146     150   \n",
       "1          6     155     157     156     156     156     157     156     158   \n",
       "2          2     187     188     188     187     187     186     187     188   \n",
       "3          2     211     211     212     212     211     210     211     210   \n",
       "4         13     164     167     170     172     176     179     180     184   \n",
       "...      ...     ...     ...     ...     ...     ...     ...     ...     ...   \n",
       "27450     13     189     189     190     190     192     193     193     193   \n",
       "27451     23     151     154     157     158     160     161     163     164   \n",
       "27452     18     174     174     174     174     174     175     175     174   \n",
       "27453     17     177     181     184     185     187     189     190     191   \n",
       "27454     23     179     180     180     180     182     181     182     183   \n",
       "\n",
       "       pixel9  ...  pixel775  pixel776  pixel777  pixel778  pixel779  \\\n",
       "0         153  ...       207       207       207       207       206   \n",
       "1         158  ...        69       149       128        87        94   \n",
       "2         187  ...       202       201       200       199       198   \n",
       "3         210  ...       235       234       233       231       230   \n",
       "4         185  ...        92       105       105       108       133   \n",
       "...       ...  ...       ...       ...       ...       ...       ...   \n",
       "27450     193  ...       132       165        99        77        52   \n",
       "27451     166  ...       198       198       198       198       198   \n",
       "27452     173  ...       121       196       209       208       206   \n",
       "27453     191  ...       119        56        27        58       102   \n",
       "27454     182  ...       108       132       170       194       214   \n",
       "\n",
       "       pixel780  pixel781  pixel782  pixel783  pixel784  \n",
       "0           206       206       204       203       202  \n",
       "1           163       175       103       135       149  \n",
       "2           199       198       195       194       195  \n",
       "3           226       225       222       229       163  \n",
       "4           163       157       163       164       179  \n",
       "...         ...       ...       ...       ...       ...  \n",
       "27450       200       234       200       222       225  \n",
       "27451       196       195       195       195       194  \n",
       "27452       204       203       202       200       200  \n",
       "27453        79        47        64        87        93  \n",
       "27454       203       197       205       209       215  \n",
       "\n",
       "[27455 rows x 785 columns]"
      ]
     },
     "execution_count": 3,
     "metadata": {},
     "output_type": "execute_result"
    }
   ],
   "source": [
    "train"
   ]
  },
  {
   "cell_type": "code",
   "execution_count": 4,
   "id": "5c6a158f",
   "metadata": {},
   "outputs": [
    {
     "data": {
      "text/html": [
       "<div>\n",
       "<style scoped>\n",
       "    .dataframe tbody tr th:only-of-type {\n",
       "        vertical-align: middle;\n",
       "    }\n",
       "\n",
       "    .dataframe tbody tr th {\n",
       "        vertical-align: top;\n",
       "    }\n",
       "\n",
       "    .dataframe thead th {\n",
       "        text-align: right;\n",
       "    }\n",
       "</style>\n",
       "<table border=\"1\" class=\"dataframe\">\n",
       "  <thead>\n",
       "    <tr style=\"text-align: right;\">\n",
       "      <th></th>\n",
       "      <th>pixel1</th>\n",
       "      <th>pixel2</th>\n",
       "      <th>pixel3</th>\n",
       "      <th>pixel4</th>\n",
       "      <th>pixel5</th>\n",
       "      <th>pixel6</th>\n",
       "      <th>pixel7</th>\n",
       "      <th>pixel8</th>\n",
       "      <th>pixel9</th>\n",
       "      <th>pixel10</th>\n",
       "      <th>...</th>\n",
       "      <th>pixel775</th>\n",
       "      <th>pixel776</th>\n",
       "      <th>pixel777</th>\n",
       "      <th>pixel778</th>\n",
       "      <th>pixel779</th>\n",
       "      <th>pixel780</th>\n",
       "      <th>pixel781</th>\n",
       "      <th>pixel782</th>\n",
       "      <th>pixel783</th>\n",
       "      <th>pixel784</th>\n",
       "    </tr>\n",
       "  </thead>\n",
       "  <tbody>\n",
       "    <tr>\n",
       "      <th>0</th>\n",
       "      <td>107</td>\n",
       "      <td>118</td>\n",
       "      <td>127</td>\n",
       "      <td>134</td>\n",
       "      <td>139</td>\n",
       "      <td>143</td>\n",
       "      <td>146</td>\n",
       "      <td>150</td>\n",
       "      <td>153</td>\n",
       "      <td>156</td>\n",
       "      <td>...</td>\n",
       "      <td>207</td>\n",
       "      <td>207</td>\n",
       "      <td>207</td>\n",
       "      <td>207</td>\n",
       "      <td>206</td>\n",
       "      <td>206</td>\n",
       "      <td>206</td>\n",
       "      <td>204</td>\n",
       "      <td>203</td>\n",
       "      <td>202</td>\n",
       "    </tr>\n",
       "    <tr>\n",
       "      <th>1</th>\n",
       "      <td>155</td>\n",
       "      <td>157</td>\n",
       "      <td>156</td>\n",
       "      <td>156</td>\n",
       "      <td>156</td>\n",
       "      <td>157</td>\n",
       "      <td>156</td>\n",
       "      <td>158</td>\n",
       "      <td>158</td>\n",
       "      <td>157</td>\n",
       "      <td>...</td>\n",
       "      <td>69</td>\n",
       "      <td>149</td>\n",
       "      <td>128</td>\n",
       "      <td>87</td>\n",
       "      <td>94</td>\n",
       "      <td>163</td>\n",
       "      <td>175</td>\n",
       "      <td>103</td>\n",
       "      <td>135</td>\n",
       "      <td>149</td>\n",
       "    </tr>\n",
       "    <tr>\n",
       "      <th>2</th>\n",
       "      <td>187</td>\n",
       "      <td>188</td>\n",
       "      <td>188</td>\n",
       "      <td>187</td>\n",
       "      <td>187</td>\n",
       "      <td>186</td>\n",
       "      <td>187</td>\n",
       "      <td>188</td>\n",
       "      <td>187</td>\n",
       "      <td>186</td>\n",
       "      <td>...</td>\n",
       "      <td>202</td>\n",
       "      <td>201</td>\n",
       "      <td>200</td>\n",
       "      <td>199</td>\n",
       "      <td>198</td>\n",
       "      <td>199</td>\n",
       "      <td>198</td>\n",
       "      <td>195</td>\n",
       "      <td>194</td>\n",
       "      <td>195</td>\n",
       "    </tr>\n",
       "    <tr>\n",
       "      <th>3</th>\n",
       "      <td>211</td>\n",
       "      <td>211</td>\n",
       "      <td>212</td>\n",
       "      <td>212</td>\n",
       "      <td>211</td>\n",
       "      <td>210</td>\n",
       "      <td>211</td>\n",
       "      <td>210</td>\n",
       "      <td>210</td>\n",
       "      <td>211</td>\n",
       "      <td>...</td>\n",
       "      <td>235</td>\n",
       "      <td>234</td>\n",
       "      <td>233</td>\n",
       "      <td>231</td>\n",
       "      <td>230</td>\n",
       "      <td>226</td>\n",
       "      <td>225</td>\n",
       "      <td>222</td>\n",
       "      <td>229</td>\n",
       "      <td>163</td>\n",
       "    </tr>\n",
       "    <tr>\n",
       "      <th>4</th>\n",
       "      <td>164</td>\n",
       "      <td>167</td>\n",
       "      <td>170</td>\n",
       "      <td>172</td>\n",
       "      <td>176</td>\n",
       "      <td>179</td>\n",
       "      <td>180</td>\n",
       "      <td>184</td>\n",
       "      <td>185</td>\n",
       "      <td>186</td>\n",
       "      <td>...</td>\n",
       "      <td>92</td>\n",
       "      <td>105</td>\n",
       "      <td>105</td>\n",
       "      <td>108</td>\n",
       "      <td>133</td>\n",
       "      <td>163</td>\n",
       "      <td>157</td>\n",
       "      <td>163</td>\n",
       "      <td>164</td>\n",
       "      <td>179</td>\n",
       "    </tr>\n",
       "    <tr>\n",
       "      <th>...</th>\n",
       "      <td>...</td>\n",
       "      <td>...</td>\n",
       "      <td>...</td>\n",
       "      <td>...</td>\n",
       "      <td>...</td>\n",
       "      <td>...</td>\n",
       "      <td>...</td>\n",
       "      <td>...</td>\n",
       "      <td>...</td>\n",
       "      <td>...</td>\n",
       "      <td>...</td>\n",
       "      <td>...</td>\n",
       "      <td>...</td>\n",
       "      <td>...</td>\n",
       "      <td>...</td>\n",
       "      <td>...</td>\n",
       "      <td>...</td>\n",
       "      <td>...</td>\n",
       "      <td>...</td>\n",
       "      <td>...</td>\n",
       "      <td>...</td>\n",
       "    </tr>\n",
       "    <tr>\n",
       "      <th>27450</th>\n",
       "      <td>189</td>\n",
       "      <td>189</td>\n",
       "      <td>190</td>\n",
       "      <td>190</td>\n",
       "      <td>192</td>\n",
       "      <td>193</td>\n",
       "      <td>193</td>\n",
       "      <td>193</td>\n",
       "      <td>193</td>\n",
       "      <td>194</td>\n",
       "      <td>...</td>\n",
       "      <td>132</td>\n",
       "      <td>165</td>\n",
       "      <td>99</td>\n",
       "      <td>77</td>\n",
       "      <td>52</td>\n",
       "      <td>200</td>\n",
       "      <td>234</td>\n",
       "      <td>200</td>\n",
       "      <td>222</td>\n",
       "      <td>225</td>\n",
       "    </tr>\n",
       "    <tr>\n",
       "      <th>27451</th>\n",
       "      <td>151</td>\n",
       "      <td>154</td>\n",
       "      <td>157</td>\n",
       "      <td>158</td>\n",
       "      <td>160</td>\n",
       "      <td>161</td>\n",
       "      <td>163</td>\n",
       "      <td>164</td>\n",
       "      <td>166</td>\n",
       "      <td>167</td>\n",
       "      <td>...</td>\n",
       "      <td>198</td>\n",
       "      <td>198</td>\n",
       "      <td>198</td>\n",
       "      <td>198</td>\n",
       "      <td>198</td>\n",
       "      <td>196</td>\n",
       "      <td>195</td>\n",
       "      <td>195</td>\n",
       "      <td>195</td>\n",
       "      <td>194</td>\n",
       "    </tr>\n",
       "    <tr>\n",
       "      <th>27452</th>\n",
       "      <td>174</td>\n",
       "      <td>174</td>\n",
       "      <td>174</td>\n",
       "      <td>174</td>\n",
       "      <td>174</td>\n",
       "      <td>175</td>\n",
       "      <td>175</td>\n",
       "      <td>174</td>\n",
       "      <td>173</td>\n",
       "      <td>173</td>\n",
       "      <td>...</td>\n",
       "      <td>121</td>\n",
       "      <td>196</td>\n",
       "      <td>209</td>\n",
       "      <td>208</td>\n",
       "      <td>206</td>\n",
       "      <td>204</td>\n",
       "      <td>203</td>\n",
       "      <td>202</td>\n",
       "      <td>200</td>\n",
       "      <td>200</td>\n",
       "    </tr>\n",
       "    <tr>\n",
       "      <th>27453</th>\n",
       "      <td>177</td>\n",
       "      <td>181</td>\n",
       "      <td>184</td>\n",
       "      <td>185</td>\n",
       "      <td>187</td>\n",
       "      <td>189</td>\n",
       "      <td>190</td>\n",
       "      <td>191</td>\n",
       "      <td>191</td>\n",
       "      <td>190</td>\n",
       "      <td>...</td>\n",
       "      <td>119</td>\n",
       "      <td>56</td>\n",
       "      <td>27</td>\n",
       "      <td>58</td>\n",
       "      <td>102</td>\n",
       "      <td>79</td>\n",
       "      <td>47</td>\n",
       "      <td>64</td>\n",
       "      <td>87</td>\n",
       "      <td>93</td>\n",
       "    </tr>\n",
       "    <tr>\n",
       "      <th>27454</th>\n",
       "      <td>179</td>\n",
       "      <td>180</td>\n",
       "      <td>180</td>\n",
       "      <td>180</td>\n",
       "      <td>182</td>\n",
       "      <td>181</td>\n",
       "      <td>182</td>\n",
       "      <td>183</td>\n",
       "      <td>182</td>\n",
       "      <td>182</td>\n",
       "      <td>...</td>\n",
       "      <td>108</td>\n",
       "      <td>132</td>\n",
       "      <td>170</td>\n",
       "      <td>194</td>\n",
       "      <td>214</td>\n",
       "      <td>203</td>\n",
       "      <td>197</td>\n",
       "      <td>205</td>\n",
       "      <td>209</td>\n",
       "      <td>215</td>\n",
       "    </tr>\n",
       "  </tbody>\n",
       "</table>\n",
       "<p>27455 rows × 784 columns</p>\n",
       "</div>"
      ],
      "text/plain": [
       "       pixel1  pixel2  pixel3  pixel4  pixel5  pixel6  pixel7  pixel8  pixel9  \\\n",
       "0         107     118     127     134     139     143     146     150     153   \n",
       "1         155     157     156     156     156     157     156     158     158   \n",
       "2         187     188     188     187     187     186     187     188     187   \n",
       "3         211     211     212     212     211     210     211     210     210   \n",
       "4         164     167     170     172     176     179     180     184     185   \n",
       "...       ...     ...     ...     ...     ...     ...     ...     ...     ...   \n",
       "27450     189     189     190     190     192     193     193     193     193   \n",
       "27451     151     154     157     158     160     161     163     164     166   \n",
       "27452     174     174     174     174     174     175     175     174     173   \n",
       "27453     177     181     184     185     187     189     190     191     191   \n",
       "27454     179     180     180     180     182     181     182     183     182   \n",
       "\n",
       "       pixel10  ...  pixel775  pixel776  pixel777  pixel778  pixel779  \\\n",
       "0          156  ...       207       207       207       207       206   \n",
       "1          157  ...        69       149       128        87        94   \n",
       "2          186  ...       202       201       200       199       198   \n",
       "3          211  ...       235       234       233       231       230   \n",
       "4          186  ...        92       105       105       108       133   \n",
       "...        ...  ...       ...       ...       ...       ...       ...   \n",
       "27450      194  ...       132       165        99        77        52   \n",
       "27451      167  ...       198       198       198       198       198   \n",
       "27452      173  ...       121       196       209       208       206   \n",
       "27453      190  ...       119        56        27        58       102   \n",
       "27454      182  ...       108       132       170       194       214   \n",
       "\n",
       "       pixel780  pixel781  pixel782  pixel783  pixel784  \n",
       "0           206       206       204       203       202  \n",
       "1           163       175       103       135       149  \n",
       "2           199       198       195       194       195  \n",
       "3           226       225       222       229       163  \n",
       "4           163       157       163       164       179  \n",
       "...         ...       ...       ...       ...       ...  \n",
       "27450       200       234       200       222       225  \n",
       "27451       196       195       195       195       194  \n",
       "27452       204       203       202       200       200  \n",
       "27453        79        47        64        87        93  \n",
       "27454       203       197       205       209       215  \n",
       "\n",
       "[27455 rows x 784 columns]"
      ]
     },
     "execution_count": 4,
     "metadata": {},
     "output_type": "execute_result"
    }
   ],
   "source": [
    "extract_forkmeans = train.drop(columns=\"label\")\n",
    "extract_forkmeans"
   ]
  },
  {
   "cell_type": "code",
   "execution_count": 5,
   "id": "845b2690",
   "metadata": {},
   "outputs": [],
   "source": [
    "data = extract_forkmeans.values"
   ]
  },
  {
   "cell_type": "markdown",
   "id": "e64661b4",
   "metadata": {},
   "source": [
    "# Running Kmeans on Training Data"
   ]
  },
  {
   "cell_type": "code",
   "execution_count": 6,
   "id": "5d579fda",
   "metadata": {},
   "outputs": [
    {
     "name": "stderr",
     "output_type": "stream",
     "text": [
      "Exception ignored on calling ctypes callback function: <function _ThreadpoolInfo._find_modules_with_dl_iterate_phdr.<locals>.match_module_callback at 0x7fe73ac051f0>\n",
      "Traceback (most recent call last):\n",
      "  File \"/opt/conda/lib/python3.9/site-packages/threadpoolctl.py\", line 400, in match_module_callback\n",
      "    self._make_module_from_path(filepath)\n",
      "  File \"/opt/conda/lib/python3.9/site-packages/threadpoolctl.py\", line 515, in _make_module_from_path\n",
      "    module = module_class(filepath, prefix, user_api, internal_api)\n",
      "  File \"/opt/conda/lib/python3.9/site-packages/threadpoolctl.py\", line 606, in __init__\n",
      "    self.version = self.get_version()\n",
      "  File \"/opt/conda/lib/python3.9/site-packages/threadpoolctl.py\", line 646, in get_version\n",
      "    config = get_config().split()\n",
      "AttributeError: 'NoneType' object has no attribute 'split'\n"
     ]
    },
    {
     "data": {
      "text/html": [
       "<style>#sk-container-id-1 {color: black;}#sk-container-id-1 pre{padding: 0;}#sk-container-id-1 div.sk-toggleable {background-color: white;}#sk-container-id-1 label.sk-toggleable__label {cursor: pointer;display: block;width: 100%;margin-bottom: 0;padding: 0.3em;box-sizing: border-box;text-align: center;}#sk-container-id-1 label.sk-toggleable__label-arrow:before {content: \"▸\";float: left;margin-right: 0.25em;color: #696969;}#sk-container-id-1 label.sk-toggleable__label-arrow:hover:before {color: black;}#sk-container-id-1 div.sk-estimator:hover label.sk-toggleable__label-arrow:before {color: black;}#sk-container-id-1 div.sk-toggleable__content {max-height: 0;max-width: 0;overflow: hidden;text-align: left;background-color: #f0f8ff;}#sk-container-id-1 div.sk-toggleable__content pre {margin: 0.2em;color: black;border-radius: 0.25em;background-color: #f0f8ff;}#sk-container-id-1 input.sk-toggleable__control:checked~div.sk-toggleable__content {max-height: 200px;max-width: 100%;overflow: auto;}#sk-container-id-1 input.sk-toggleable__control:checked~label.sk-toggleable__label-arrow:before {content: \"▾\";}#sk-container-id-1 div.sk-estimator input.sk-toggleable__control:checked~label.sk-toggleable__label {background-color: #d4ebff;}#sk-container-id-1 div.sk-label input.sk-toggleable__control:checked~label.sk-toggleable__label {background-color: #d4ebff;}#sk-container-id-1 input.sk-hidden--visually {border: 0;clip: rect(1px 1px 1px 1px);clip: rect(1px, 1px, 1px, 1px);height: 1px;margin: -1px;overflow: hidden;padding: 0;position: absolute;width: 1px;}#sk-container-id-1 div.sk-estimator {font-family: monospace;background-color: #f0f8ff;border: 1px dotted black;border-radius: 0.25em;box-sizing: border-box;margin-bottom: 0.5em;}#sk-container-id-1 div.sk-estimator:hover {background-color: #d4ebff;}#sk-container-id-1 div.sk-parallel-item::after {content: \"\";width: 100%;border-bottom: 1px solid gray;flex-grow: 1;}#sk-container-id-1 div.sk-label:hover label.sk-toggleable__label {background-color: #d4ebff;}#sk-container-id-1 div.sk-serial::before {content: \"\";position: absolute;border-left: 1px solid gray;box-sizing: border-box;top: 0;bottom: 0;left: 50%;z-index: 0;}#sk-container-id-1 div.sk-serial {display: flex;flex-direction: column;align-items: center;background-color: white;padding-right: 0.2em;padding-left: 0.2em;position: relative;}#sk-container-id-1 div.sk-item {position: relative;z-index: 1;}#sk-container-id-1 div.sk-parallel {display: flex;align-items: stretch;justify-content: center;background-color: white;position: relative;}#sk-container-id-1 div.sk-item::before, #sk-container-id-1 div.sk-parallel-item::before {content: \"\";position: absolute;border-left: 1px solid gray;box-sizing: border-box;top: 0;bottom: 0;left: 50%;z-index: -1;}#sk-container-id-1 div.sk-parallel-item {display: flex;flex-direction: column;z-index: 1;position: relative;background-color: white;}#sk-container-id-1 div.sk-parallel-item:first-child::after {align-self: flex-end;width: 50%;}#sk-container-id-1 div.sk-parallel-item:last-child::after {align-self: flex-start;width: 50%;}#sk-container-id-1 div.sk-parallel-item:only-child::after {width: 0;}#sk-container-id-1 div.sk-dashed-wrapped {border: 1px dashed gray;margin: 0 0.4em 0.5em 0.4em;box-sizing: border-box;padding-bottom: 0.4em;background-color: white;}#sk-container-id-1 div.sk-label label {font-family: monospace;font-weight: bold;display: inline-block;line-height: 1.2em;}#sk-container-id-1 div.sk-label-container {text-align: center;}#sk-container-id-1 div.sk-container {/* jupyter's `normalize.less` sets `[hidden] { display: none; }` but bootstrap.min.css set `[hidden] { display: none !important; }` so we also need the `!important` here to be able to override the default hidden behavior on the sphinx rendered scikit-learn.org. See: https://github.com/scikit-learn/scikit-learn/issues/21755 */display: inline-block !important;position: relative;}#sk-container-id-1 div.sk-text-repr-fallback {display: none;}</style><div id=\"sk-container-id-1\" class=\"sk-top-container\"><div class=\"sk-text-repr-fallback\"><pre>KMeans(n_clusters=25, n_init=&#x27;auto&#x27;, random_state=0)</pre><b>In a Jupyter environment, please rerun this cell to show the HTML representation or trust the notebook. <br />On GitHub, the HTML representation is unable to render, please try loading this page with nbviewer.org.</b></div><div class=\"sk-container\" hidden><div class=\"sk-item\"><div class=\"sk-estimator sk-toggleable\"><input class=\"sk-toggleable__control sk-hidden--visually\" id=\"sk-estimator-id-1\" type=\"checkbox\" checked><label for=\"sk-estimator-id-1\" class=\"sk-toggleable__label sk-toggleable__label-arrow\">KMeans</label><div class=\"sk-toggleable__content\"><pre>KMeans(n_clusters=25, n_init=&#x27;auto&#x27;, random_state=0)</pre></div></div></div></div></div>"
      ],
      "text/plain": [
       "KMeans(n_clusters=25, n_init='auto', random_state=0)"
      ]
     },
     "execution_count": 6,
     "metadata": {},
     "output_type": "execute_result"
    }
   ],
   "source": [
    "kmeans = KMeans(n_clusters=25, random_state=0, n_init=\"auto\").fit(data)\n",
    "kmeans"
   ]
  },
  {
   "cell_type": "code",
   "execution_count": 8,
   "id": "e7117d26",
   "metadata": {},
   "outputs": [
    {
     "data": {
      "text/plain": [
       "array([ 9,  9, 23, ..., 17, 10,  6], dtype=int32)"
      ]
     },
     "execution_count": 8,
     "metadata": {},
     "output_type": "execute_result"
    }
   ],
   "source": [
    "labels_k = kmeans.labels_\n",
    "labels_k"
   ]
  },
  {
   "cell_type": "code",
   "execution_count": 9,
   "id": "0e763b65",
   "metadata": {},
   "outputs": [],
   "source": [
    "mappings = dict()\n",
    "for x,y in zip(labels_k, data):\n",
    "    if mappings.get(x) is None: \n",
    "        mappings[x] = [y]\n",
    "    else:\n",
    "        mappings[x].append(y)\n"
   ]
  },
  {
   "cell_type": "code",
   "execution_count": 25,
   "id": "0c5f3057",
   "metadata": {},
   "outputs": [
    {
     "data": {
      "image/png": "[encoded data removed]",
      "text/plain": [
       "<Figure size 432x288 with 1 Axes>"
      ]
     },
     "metadata": {
      "needs_background": "light"
     },
     "output_type": "display_data"
    },
    {
     "data": {
      "image/png": "[encoded data removed]",
      "text/plain": [
       "<Figure size 432x288 with 1 Axes>"
      ]
     },
     "metadata": {
      "needs_background": "light"
     },
     "output_type": "display_data"
    },
    {
     "data": {
      "image/png": "[encoded data removed]",
      "text/plain": [
       "<Figure size 432x288 with 1 Axes>"
      ]
     },
     "metadata": {
      "needs_background": "light"
     },
     "output_type": "display_data"
    },
    {
     "data": {
      "image/png": "[encoded data removed]",
      "text/plain": [
       "<Figure size 432x288 with 1 Axes>"
      ]
     },
     "metadata": {
      "needs_background": "light"
     },
     "output_type": "display_data"
    },
    {
     "data": {
      "image/png": "[encoded data removed]",
      "text/plain": [
       "<Figure size 432x288 with 1 Axes>"
      ]
     },
     "metadata": {
      "needs_background": "light"
     },
     "output_type": "display_data"
    },
    {
     "data": {
      "image/png": "[encoded data removed]",
      "text/plain": [
       "<Figure size 432x288 with 1 Axes>"
      ]
     },
     "metadata": {
      "needs_background": "light"
     },
     "output_type": "display_data"
    },
    {
     "data": {
      "image/png": "[encoded data removed]",
      "text/plain": [
       "<Figure size 432x288 with 1 Axes>"
      ]
     },
     "metadata": {
      "needs_background": "light"
     },
     "output_type": "display_data"
    },
    {
     "data": {
      "image/png": "[encoded data removed]",
      "text/plain": [
       "<Figure size 432x288 with 1 Axes>"
      ]
     },
     "metadata": {
      "needs_background": "light"
     },
     "output_type": "display_data"
    },
    {
     "data": {
      "image/png": "[encoded data removed]",
      "text/plain": [
       "<Figure size 432x288 with 1 Axes>"
      ]
     },
     "metadata": {
      "needs_background": "light"
     },
     "output_type": "display_data"
    },
    {
     "data": {
      "image/png": "[encoded data removed]",
      "text/plain": [
       "<Figure size 432x288 with 1 Axes>"
      ]
     },
     "metadata": {
      "needs_background": "light"
     },
     "output_type": "display_data"
    },
    {
     "data": {
      "image/png": "[encoded data removed]",
      "text/plain": [
       "<Figure size 432x288 with 1 Axes>"
      ]
     },
     "metadata": {
      "needs_background": "light"
     },
     "output_type": "display_data"
    },
    {
     "data": {
      "image/png": "[encoded data removed]",
      "text/plain": [
       "<Figure size 432x288 with 1 Axes>"
      ]
     },
     "metadata": {
      "needs_background": "light"
     },
     "output_type": "display_data"
    },
    {
     "data": {
      "image/png": "[encoded data removed]",
      "text/plain": [
       "<Figure size 432x288 with 1 Axes>"
      ]
     },
     "metadata": {
      "needs_background": "light"
     },
     "output_type": "display_data"
    },
    {
     "data": {
      "image/png": "[encoded data removed]",
      "text/plain": [
       "<Figure size 432x288 with 1 Axes>"
      ]
     },
     "metadata": {
      "needs_background": "light"
     },
     "output_type": "display_data"
    },
    {
     "data": {
      "image/png": "[encoded data removed]",
      "text/plain": [
       "<Figure size 432x288 with 1 Axes>"
      ]
     },
     "metadata": {
      "needs_background": "light"
     },
     "output_type": "display_data"
    },
    {
     "data": {
      "image/png": "[encoded data removed]",
      "text/plain": [
       "<Figure size 432x288 with 1 Axes>"
      ]
     },
     "metadata": {
      "needs_background": "light"
     },
     "output_type": "display_data"
    },
    {
     "data": {
      "image/png": "[encoded data removed]",
      "text/plain": [
       "<Figure size 432x288 with 1 Axes>"
      ]
     },
     "metadata": {
      "needs_background": "light"
     },
     "output_type": "display_data"
    },
    {
     "data": {
      "image/png": "[encoded data removed]",
      "text/plain": [
       "<Figure size 432x288 with 1 Axes>"
      ]
     },
     "metadata": {
      "needs_background": "light"
     },
     "output_type": "display_data"
    },
    {
     "data": {
      "image/png": "[encoded data removed]",
      "text/plain": [
       "<Figure size 432x288 with 1 Axes>"
      ]
     },
     "metadata": {
      "needs_background": "light"
     },
     "output_type": "display_data"
    },
    {
     "data": {
      "image/png": "[encoded data removed]",
      "text/plain": [
       "<Figure size 432x288 with 1 Axes>"
      ]
     },
     "metadata": {
      "needs_background": "light"
     },
     "output_type": "display_data"
    },
    {
     "data": {
      "image/png": "[encoded data removed]",
      "text/plain": [
       "<Figure size 432x288 with 1 Axes>"
      ]
     },
     "metadata": {
      "needs_background": "light"
     },
     "output_type": "display_data"
    },
    {
     "data": {
      "image/png": "[encoded data removed]",
      "text/plain": [
       "<Figure size 432x288 with 1 Axes>"
      ]
     },
     "metadata": {
      "needs_background": "light"
     },
     "output_type": "display_data"
    },
    {
     "data": {
      "image/png": "[encoded data removed]",
      "text/plain": [
       "<Figure size 432x288 with 1 Axes>"
      ]
     },
     "metadata": {
      "needs_background": "light"
     },
     "output_type": "display_data"
    },
    {
     "data": {
      "image/png": "[encoded data removed]",
      "text/plain": [
       "<Figure size 432x288 with 1 Axes>"
      ]
     },
     "metadata": {
      "needs_background": "light"
     },
     "output_type": "display_data"
    },
    {
     "data": {
      "image/png": "[encoded data removed]",
      "text/plain": [
       "<Figure size 432x288 with 1 Axes>"
      ]
     },
     "metadata": {
      "needs_background": "light"
     },
     "output_type": "display_data"
    },
    {
     "data": {
      "image/png": "[encoded data removed]",
      "text/plain": [
       "<Figure size 432x288 with 1 Axes>"
      ]
     },
     "metadata": {
      "needs_background": "light"
     },
     "output_type": "display_data"
    },
    {
     "data": {
      "image/png": "[encoded data removed]",
      "text/plain": [
       "<Figure size 432x288 with 1 Axes>"
      ]
     },
     "metadata": {
      "needs_background": "light"
     },
     "output_type": "display_data"
    },
    {
     "data": {
      "image/png": "[encoded data removed]",
      "text/plain": [
       "<Figure size 432x288 with 1 Axes>"
      ]
     },
     "metadata": {
      "needs_background": "light"
     },
     "output_type": "display_data"
    },
    {
     "data": {
      "image/png": "[encoded data removed]",
      "text/plain": [
       "<Figure size 432x288 with 1 Axes>"
      ]
     },
     "metadata": {
      "needs_background": "light"
     },
     "output_type": "display_data"
    },
    {
     "data": {
      "image/png": "[encoded data removed]",
      "text/plain": [
       "<Figure size 432x288 with 1 Axes>"
      ]
     },
     "metadata": {
      "needs_background": "light"
     },
     "output_type": "display_data"
    },
    {
     "data": {
      "image/png": "[encoded data removed]",
      "text/plain": [
       "<Figure size 432x288 with 1 Axes>"
      ]
     },
     "metadata": {
      "needs_background": "light"
     },
     "output_type": "display_data"
    },
    {
     "data": {
      "image/png": "[encoded data removed]",
      "text/plain": [
       "<Figure size 432x288 with 1 Axes>"
      ]
     },
     "metadata": {
      "needs_background": "light"
     },
     "output_type": "display_data"
    },
    {
     "data": {
      "image/png": "[encoded data removed]",
      "text/plain": [
       "<Figure size 432x288 with 1 Axes>"
      ]
     },
     "metadata": {
      "needs_background": "light"
     },
     "output_type": "display_data"
    },
    {
     "data": {
      "image/png": "[encoded data removed]",
      "text/plain": [
       "<Figure size 432x288 with 1 Axes>"
      ]
     },
     "metadata": {
      "needs_background": "light"
     },
     "output_type": "display_data"
    },
    {
     "data": {
      "image/png": "[encoded data removed]",
      "text/plain": [
       "<Figure size 432x288 with 1 Axes>"
      ]
     },
     "metadata": {
      "needs_background": "light"
     },
     "output_type": "display_data"
    },
    {
     "data": {
      "image/png": "[encoded data removed]",
      "text/plain": [
       "<Figure size 432x288 with 1 Axes>"
      ]
     },
     "metadata": {
      "needs_background": "light"
     },
     "output_type": "display_data"
    },
    {
     "data": {
      "image/png": "[encoded data removed]",
      "text/plain": [
       "<Figure size 432x288 with 1 Axes>"
      ]
     },
     "metadata": {
      "needs_background": "light"
     },
     "output_type": "display_data"
    },
    {
     "data": {
      "image/png": "[encoded data removed]",
      "text/plain": [
       "<Figure size 432x288 with 1 Axes>"
      ]
     },
     "metadata": {
      "needs_background": "light"
     },
     "output_type": "display_data"
    },
    {
     "data": {
      "image/png": "[encoded data removed]",
      "text/plain": [
       "<Figure size 432x288 with 1 Axes>"
      ]
     },
     "metadata": {
      "needs_background": "light"
     },
     "output_type": "display_data"
    },
    {
     "data": {
      "image/png": "[encoded data removed]",
      "text/plain": [
       "<Figure size 432x288 with 1 Axes>"
      ]
     },
     "metadata": {
      "needs_background": "light"
     },
     "output_type": "display_data"
    },
    {
     "data": {
      "image/png": "[encoded data removed]",
      "text/plain": [
       "<Figure size 432x288 with 1 Axes>"
      ]
     },
     "metadata": {
      "needs_background": "light"
     },
     "output_type": "display_data"
    },
    {
     "data": {
      "image/png": "[encoded data removed]",
      "text/plain": [
       "<Figure size 432x288 with 1 Axes>"
      ]
     },
     "metadata": {
      "needs_background": "light"
     },
     "output_type": "display_data"
    },
    {
     "data": {
      "image/png": "[encoded data removed]",
      "text/plain": [
       "<Figure size 432x288 with 1 Axes>"
      ]
     },
     "metadata": {
      "needs_background": "light"
     },
     "output_type": "display_data"
    },
    {
     "data": {
      "image/png": "[encoded data removed]",
      "text/plain": [
       "<Figure size 432x288 with 1 Axes>"
      ]
     },
     "metadata": {
      "needs_background": "light"
     },
     "output_type": "display_data"
    },
    {
     "data": {
      "image/png": "[encoded data removed]",
      "text/plain": [
       "<Figure size 432x288 with 1 Axes>"
      ]
     },
     "metadata": {
      "needs_background": "light"
     },
     "output_type": "display_data"
    },
    {
     "data": {
      "image/png": "[encoded data removed]",
      "text/plain": [
       "<Figure size 432x288 with 1 Axes>"
      ]
     },
     "metadata": {
      "needs_background": "light"
     },
     "output_type": "display_data"
    },
    {
     "data": {
      "image/png": "[encoded data removed]",
      "text/plain": [
       "<Figure size 432x288 with 1 Axes>"
      ]
     },
     "metadata": {
      "needs_background": "light"
     },
     "output_type": "display_data"
    },
    {
     "data": {
      "image/png": "[encoded data removed]",
      "text/plain": [
       "<Figure size 432x288 with 1 Axes>"
      ]
     },
     "metadata": {
      "needs_background": "light"
     },
     "output_type": "display_data"
    },
    {
     "data": {
      "image/png": "[encoded data removed]",
      "text/plain": [
       "<Figure size 432x288 with 1 Axes>"
      ]
     },
     "metadata": {
      "needs_background": "light"
     },
     "output_type": "display_data"
    },
    {
     "data": {
      "image/png": "[encoded data removed]",
      "text/plain": [
       "<Figure size 432x288 with 1 Axes>"
      ]
     },
     "metadata": {
      "needs_background": "light"
     },
     "output_type": "display_data"
    },
    {
     "data": {
      "image/png": "[encoded data removed]",
      "text/plain": [
       "<Figure size 432x288 with 1 Axes>"
      ]
     },
     "metadata": {
      "needs_background": "light"
     },
     "output_type": "display_data"
    },
    {
     "data": {
      "image/png": "[encoded data removed]",
      "text/plain": [
       "<Figure size 432x288 with 1 Axes>"
      ]
     },
     "metadata": {
      "needs_background": "light"
     },
     "output_type": "display_data"
    },
    {
     "data": {
      "image/png": "[encoded data removed]",
      "text/plain": [
       "<Figure size 432x288 with 1 Axes>"
      ]
     },
     "metadata": {
      "needs_background": "light"
     },
     "output_type": "display_data"
    },
    {
     "data": {
      "image/png": "[encoded data removed]",
      "text/plain": [
       "<Figure size 432x288 with 1 Axes>"
      ]
     },
     "metadata": {
      "needs_background": "light"
     },
     "output_type": "display_data"
    },
    {
     "data": {
      "image/png": "[encoded data removed]",
      "text/plain": [
       "<Figure size 432x288 with 1 Axes>"
      ]
     },
     "metadata": {
      "needs_background": "light"
     },
     "output_type": "display_data"
    },
    {
     "data": {
      "image/png": "[encoded data removed]",
      "text/plain": [
       "<Figure size 432x288 with 1 Axes>"
      ]
     },
     "metadata": {
      "needs_background": "light"
     },
     "output_type": "display_data"
    },
    {
     "data": {
      "image/png": "[encoded data removed]",
      "text/plain": [
       "<Figure size 432x288 with 1 Axes>"
      ]
     },
     "metadata": {
      "needs_background": "light"
     },
     "output_type": "display_data"
    },
    {
     "data": {
      "image/png": "[encoded data removed]",
      "text/plain": [
       "<Figure size 432x288 with 1 Axes>"
      ]
     },
     "metadata": {
      "needs_background": "light"
     },
     "output_type": "display_data"
    },
    {
     "data": {
      "image/png": "[encoded data removed]",
      "text/plain": [
       "<Figure size 432x288 with 1 Axes>"
      ]
     },
     "metadata": {
      "needs_background": "light"
     },
     "output_type": "display_data"
    },
    {
     "data": {
      "image/png": "[encoded data removed]",
      "text/plain": [
       "<Figure size 432x288 with 1 Axes>"
      ]
     },
     "metadata": {
      "needs_background": "light"
     },
     "output_type": "display_data"
    },
    {
     "data": {
      "image/png": "[encoded data removed]",
      "text/plain": [
       "<Figure size 432x288 with 1 Axes>"
      ]
     },
     "metadata": {
      "needs_background": "light"
     },
     "output_type": "display_data"
    },
    {
     "data": {
      "image/png": "[encoded data removed]",
      "text/plain": [
       "<Figure size 432x288 with 1 Axes>"
      ]
     },
     "metadata": {
      "needs_background": "light"
     },
     "output_type": "display_data"
    },
    {
     "data": {
      "image/png": "[encoded data removed]",
      "text/plain": [
       "<Figure size 432x288 with 1 Axes>"
      ]
     },
     "metadata": {
      "needs_background": "light"
     },
     "output_type": "display_data"
    },
    {
     "data": {
      "image/png": "[encoded data removed]",
      "text/plain": [
       "<Figure size 432x288 with 1 Axes>"
      ]
     },
     "metadata": {
      "needs_background": "light"
     },
     "output_type": "display_data"
    },
    {
     "data": {
      "image/png": "[encoded data removed]",
      "text/plain": [
       "<Figure size 432x288 with 1 Axes>"
      ]
     },
     "metadata": {
      "needs_background": "light"
     },
     "output_type": "display_data"
    },
    {
     "data": {
      "image/png": "[encoded data removed]",
      "text/plain": [
       "<Figure size 432x288 with 1 Axes>"
      ]
     },
     "metadata": {
      "needs_background": "light"
     },
     "output_type": "display_data"
    },
    {
     "data": {
      "image/png": "[encoded data removed]",
      "text/plain": [
       "<Figure size 432x288 with 1 Axes>"
      ]
     },
     "metadata": {
      "needs_background": "light"
     },
     "output_type": "display_data"
    },
    {
     "data": {
      "image/png": "[encoded data removed]",
      "text/plain": [
       "<Figure size 432x288 with 1 Axes>"
      ]
     },
     "metadata": {
      "needs_background": "light"
     },
     "output_type": "display_data"
    },
    {
     "data": {
      "image/png": "[encoded data removed]",
      "text/plain": [
       "<Figure size 432x288 with 1 Axes>"
      ]
     },
     "metadata": {
      "needs_background": "light"
     },
     "output_type": "display_data"
    },
    {
     "data": {
      "image/png": "[encoded data removed]",
      "text/plain": [
       "<Figure size 432x288 with 1 Axes>"
      ]
     },
     "metadata": {
      "needs_background": "light"
     },
     "output_type": "display_data"
    },
    {
     "data": {
      "image/png": "[encoded data removed]",
      "text/plain": [
       "<Figure size 432x288 with 1 Axes>"
      ]
     },
     "metadata": {
      "needs_background": "light"
     },
     "output_type": "display_data"
    },
    {
     "data": {
      "image/png": "[encoded data removed]",
      "text/plain": [
       "<Figure size 432x288 with 1 Axes>"
      ]
     },
     "metadata": {
      "needs_background": "light"
     },
     "output_type": "display_data"
    },
    {
     "data": {
      "image/png": "[encoded data removed]",
      "text/plain": [
       "<Figure size 432x288 with 1 Axes>"
      ]
     },
     "metadata": {
      "needs_background": "light"
     },
     "output_type": "display_data"
    },
    {
     "data": {
      "image/png": "[encoded data removed]",
      "text/plain": [
       "<Figure size 432x288 with 1 Axes>"
      ]
     },
     "metadata": {
      "needs_background": "light"
     },
     "output_type": "display_data"
    },
    {
     "data": {
      "image/png": "[encoded data removed]",
      "text/plain": [
       "<Figure size 432x288 with 1 Axes>"
      ]
     },
     "metadata": {
      "needs_background": "light"
     },
     "output_type": "display_data"
    }
   ],
   "source": [
    "for cluster_idx, images in mappings.items():\n",
    "    for i, image_flat in enumerate(images[:3]):\n",
    "        image_reshaped = image_flat.reshape(28, 28) \n",
    "        plt.imshow(image_reshaped, cmap='gray')  \n",
    "        plt.title(f\"Label: {cluster_idx}\")  \n",
    "        plt.axis('off')  \n",
    "        plt.show()  \n",
    "\n",
    "     "
   ]
  },
  {
   "cell_type": "markdown",
   "id": "afdec618",
   "metadata": {},
   "source": [
    "# Cluster Vizualization and Analysis"
   ]
  },
  {
   "cell_type": "code",
   "execution_count": null,
   "id": "f65300a9",
   "metadata": {},
   "outputs": [],
   "source": []
  },
  {
   "cell_type": "markdown",
   "id": "dc6b27c7",
   "metadata": {},
   "source": [
    "# Initializing CNN model"
   ]
  },
  {
   "cell_type": "code",
   "execution_count": 12,
   "id": "e78725b8",
   "metadata": {},
   "outputs": [
    {
     "name": "stdout",
     "output_type": "stream",
     "text": [
      "cuda:0\n"
     ]
    }
   ],
   "source": [
    "device = torch.device(\"cuda:0\" if torch.cuda.is_available() else \"cpu\")\n",
    "print(device)  "
   ]
  },
  {
   "cell_type": "code",
   "execution_count": 13,
   "id": "fba6201d",
   "metadata": {},
   "outputs": [
    {
     "data": {
      "text/plain": [
       "Net(\n",
       "  (conv1): Conv2d(1, 15, kernel_size=(3, 3), stride=(1, 1), padding=(1, 1))\n",
       "  (pool): AvgPool2d(kernel_size=2, stride=2, padding=0)\n",
       "  (conv2): Conv2d(15, 20, kernel_size=(3, 3), stride=(1, 1), padding=(1, 1))\n",
       "  (conv3): Conv2d(20, 20, kernel_size=(3, 3), stride=(1, 1), padding=(1, 1))\n",
       "  (fc1): Linear(in_features=180, out_features=100, bias=True)\n",
       "  (fc3): Linear(in_features=100, out_features=26, bias=True)\n",
       ")"
      ]
     },
     "execution_count": 13,
     "metadata": {},
     "output_type": "execute_result"
    }
   ],
   "source": [
    "#(batch_size, 1, 28, 28)\n",
    "\n",
    "\n",
    "class Net(nn.Module):\n",
    "    def __init__(self):\n",
    "        super(Net, self).__init__()\n",
    "        self.conv1 = nn.Conv2d(1, 15, 3, 1, 1)\n",
    "        self.pool = nn.AvgPool2d(2, 2)\n",
    "        self.conv2 = nn.Conv2d(15, 20, 3,1,1)\n",
    "        self.conv3 = nn.Conv2d(20, 20, 3,1,1)\n",
    "        self.fc1 = nn.Linear(180, 100)\n",
    "        \n",
    "        self.fc3 = nn.Linear(100, 26)\n",
    "        \n",
    "    def forward(self, x):\n",
    "        x = self.pool(F.relu(self.conv1(x)))\n",
    "        x = self.pool(F.relu(self.conv2(x)))\n",
    "        x = self.pool(F.relu(self.conv3(x)))\n",
    "        x = torch.flatten(x, 1)\n",
    "        x = F.relu(self.fc1(x))\n",
    "        x = self.fc3(x)\n",
    "        \n",
    "        \n",
    "        \n",
    "        \n",
    "        return x\n",
    "    \n",
    "    \n",
    "net = Net()     \n",
    "net.to(device)  \n",
    "        \n",
    "    \n",
    "    \n",
    "    "
   ]
  },
  {
   "cell_type": "code",
   "execution_count": 32,
   "id": "f05dd802",
   "metadata": {},
   "outputs": [
    {
     "data": {
      "text/plain": [
       "(27455, 784)"
      ]
     },
     "execution_count": 32,
     "metadata": {},
     "output_type": "execute_result"
    }
   ],
   "source": [
    "data.shape"
   ]
  },
  {
   "cell_type": "code",
   "execution_count": 14,
   "id": "2cecf536",
   "metadata": {},
   "outputs": [],
   "source": [
    "loss_func = nn.CrossEntropyLoss()  \n",
    "opt = optim.SGD(net.parameters(), lr=0.001, momentum=0.9) "
   ]
  },
  {
   "cell_type": "code",
   "execution_count": 15,
   "id": "a1b38467",
   "metadata": {},
   "outputs": [
    {
     "data": {
      "text/plain": [
       "array([ 3,  6,  2, ..., 18, 17, 23])"
      ]
     },
     "execution_count": 15,
     "metadata": {},
     "output_type": "execute_result"
    }
   ],
   "source": [
    "labels = np.array(train.get(\"label\"))\n",
    "labels"
   ]
  },
  {
   "cell_type": "markdown",
   "id": "f259860d",
   "metadata": {},
   "source": [
    "# Training CNN"
   ]
  },
  {
   "cell_type": "code",
   "execution_count": 16,
   "id": "0dba483f",
   "metadata": {},
   "outputs": [
    {
     "name": "stdout",
     "output_type": "stream",
     "text": [
      "[1,   100] loss: 3.266\n",
      "[1,   200] loss: 3.061\n",
      "[1,   300] loss: 2.532\n",
      "[1,   400] loss: 2.000\n",
      "[1,   500] loss: 1.775\n",
      "[1,   600] loss: 1.450\n",
      "[1,   700] loss: 1.352\n",
      "[1,   800] loss: 1.154\n",
      "[1,   900] loss: 1.054\n",
      "[1,  1000] loss: 0.822\n",
      "[1,  1100] loss: 0.803\n",
      "[1,  1200] loss: 0.748\n",
      "[1,  1300] loss: 0.775\n",
      "[1,  1400] loss: 0.612\n",
      "[1,  1500] loss: 0.541\n",
      "[1,  1600] loss: 0.545\n",
      "[1,  1700] loss: 0.549\n",
      "[1,  1800] loss: 0.486\n",
      "[1,  1900] loss: 0.491\n",
      "[1,  2000] loss: 0.439\n",
      "[1,  2100] loss: 0.414\n",
      "[1,  2200] loss: 0.429\n",
      "[1,  2300] loss: 0.267\n",
      "[1,  2400] loss: 0.503\n",
      "[1,  2500] loss: 0.435\n",
      "[1,  2600] loss: 0.301\n",
      "[1,  2700] loss: 0.245\n",
      "[1,  2800] loss: 0.245\n",
      "[1,  2900] loss: 0.236\n",
      "[1,  3000] loss: 0.292\n",
      "[1,  3100] loss: 0.241\n",
      "[1,  3200] loss: 0.182\n",
      "[1,  3300] loss: 0.300\n",
      "[1,  3400] loss: 0.264\n",
      "[1,  3500] loss: 0.163\n",
      "[1,  3600] loss: 0.245\n",
      "[1,  3700] loss: 0.163\n",
      "[1,  3800] loss: 0.222\n",
      "[1,  3900] loss: 0.164\n",
      "[1,  4000] loss: 0.148\n",
      "[1,  4100] loss: 0.165\n",
      "[1,  4200] loss: 0.114\n",
      "[1,  4300] loss: 0.109\n",
      "[1,  4400] loss: 0.149\n",
      "[1,  4500] loss: 0.174\n",
      "[1,  4600] loss: 0.176\n",
      "[1,  4700] loss: 0.117\n",
      "[1,  4800] loss: 0.130\n",
      "[1,  4900] loss: 0.175\n",
      "[1,  5000] loss: 0.184\n",
      "[1,  5100] loss: 0.136\n",
      "[1,  5200] loss: 0.191\n",
      "[1,  5300] loss: 0.127\n",
      "[1,  5400] loss: 0.112\n",
      "[1,  5500] loss: 0.170\n",
      "[1,  5600] loss: 0.100\n",
      "[1,  5700] loss: 0.146\n",
      "[1,  5800] loss: 0.134\n",
      "[1,  5900] loss: 0.088\n",
      "[1,  6000] loss: 0.102\n",
      "[1,  6100] loss: 0.183\n",
      "[1,  6200] loss: 0.132\n",
      "[1,  6300] loss: 0.087\n",
      "[1,  6400] loss: 0.058\n",
      "[1,  6500] loss: 0.055\n",
      "[1,  6600] loss: 0.048\n",
      "[1,  6700] loss: 0.130\n",
      "[1,  6800] loss: 0.154\n",
      "[2,   100] loss: 0.124\n",
      "[2,   200] loss: 0.100\n",
      "[2,   300] loss: 0.112\n",
      "[2,   400] loss: 0.106\n",
      "[2,   500] loss: 0.024\n",
      "[2,   600] loss: 0.084\n",
      "[2,   700] loss: 0.141\n",
      "[2,   800] loss: 0.152\n",
      "[2,   900] loss: 0.057\n",
      "[2,  1000] loss: 0.069\n",
      "[2,  1100] loss: 0.047\n",
      "[2,  1200] loss: 0.036\n",
      "[2,  1300] loss: 0.029\n",
      "[2,  1400] loss: 0.079\n",
      "[2,  1500] loss: 0.105\n",
      "[2,  1600] loss: 0.114\n",
      "[2,  1700] loss: 0.191\n",
      "[2,  1800] loss: 0.045\n",
      "[2,  1900] loss: 0.017\n",
      "[2,  2000] loss: 0.050\n",
      "[2,  2100] loss: 0.090\n",
      "[2,  2200] loss: 0.066\n",
      "[2,  2300] loss: 0.062\n",
      "[2,  2400] loss: 0.046\n",
      "[2,  2500] loss: 0.090\n",
      "[2,  2600] loss: 0.087\n",
      "[2,  2700] loss: 0.100\n",
      "[2,  2800] loss: 0.060\n",
      "[2,  2900] loss: 0.108\n",
      "[2,  3000] loss: 0.088\n",
      "[2,  3100] loss: 0.072\n",
      "[2,  3200] loss: 0.080\n",
      "[2,  3300] loss: 0.176\n",
      "[2,  3400] loss: 0.156\n",
      "[2,  3500] loss: 0.071\n",
      "[2,  3600] loss: 0.069\n",
      "[2,  3700] loss: 0.022\n",
      "[2,  3800] loss: 0.029\n",
      "[2,  3900] loss: 0.005\n",
      "[2,  4000] loss: 0.009\n",
      "[2,  4100] loss: 0.003\n",
      "[2,  4200] loss: 0.027\n",
      "[2,  4300] loss: 0.085\n",
      "[2,  4400] loss: 0.099\n",
      "[2,  4500] loss: 0.081\n",
      "[2,  4600] loss: 0.124\n",
      "[2,  4700] loss: 0.058\n",
      "[2,  4800] loss: 0.038\n",
      "[2,  4900] loss: 0.094\n",
      "[2,  5000] loss: 0.030\n",
      "[2,  5100] loss: 0.035\n",
      "[2,  5200] loss: 0.066\n",
      "[2,  5300] loss: 0.146\n",
      "[2,  5400] loss: 0.123\n",
      "[2,  5500] loss: 0.147\n",
      "[2,  5600] loss: 0.047\n",
      "[2,  5700] loss: 0.047\n",
      "[2,  5800] loss: 0.009\n",
      "[2,  5900] loss: 0.010\n",
      "[2,  6000] loss: 0.002\n",
      "[2,  6100] loss: 0.004\n",
      "[2,  6200] loss: 0.025\n",
      "[2,  6300] loss: 0.144\n",
      "[2,  6400] loss: 0.045\n",
      "[2,  6500] loss: 0.108\n",
      "[2,  6600] loss: 0.062\n",
      "[2,  6700] loss: 0.061\n",
      "[2,  6800] loss: 0.045\n",
      "[3,   100] loss: 0.022\n",
      "[3,   200] loss: 0.004\n",
      "[3,   300] loss: 0.004\n",
      "[3,   400] loss: 0.006\n",
      "[3,   500] loss: 0.003\n",
      "[3,   600] loss: 0.001\n",
      "[3,   700] loss: 0.001\n",
      "[3,   800] loss: 0.001\n",
      "[3,   900] loss: 0.001\n",
      "[3,  1000] loss: 0.001\n",
      "[3,  1100] loss: 0.001\n",
      "[3,  1200] loss: 0.001\n",
      "[3,  1300] loss: 0.000\n",
      "[3,  1400] loss: 0.000\n",
      "[3,  1500] loss: 0.000\n",
      "[3,  1600] loss: 0.000\n",
      "[3,  1700] loss: 0.000\n",
      "[3,  1800] loss: 0.001\n",
      "[3,  1900] loss: 0.097\n",
      "[3,  2000] loss: 0.250\n",
      "[3,  2100] loss: 0.259\n",
      "[3,  2200] loss: 0.163\n",
      "[3,  2300] loss: 0.054\n",
      "[3,  2400] loss: 0.042\n",
      "[3,  2500] loss: 0.041\n",
      "[3,  2600] loss: 0.048\n",
      "[3,  2700] loss: 0.038\n",
      "[3,  2800] loss: 0.024\n",
      "[3,  2900] loss: 0.029\n",
      "[3,  3000] loss: 0.004\n",
      "[3,  3100] loss: 0.063\n",
      "[3,  3200] loss: 0.230\n",
      "[3,  3300] loss: 0.113\n",
      "[3,  3400] loss: 0.013\n",
      "[3,  3500] loss: 0.008\n",
      "[3,  3600] loss: 0.063\n",
      "[3,  3700] loss: 0.106\n",
      "[3,  3800] loss: 0.060\n",
      "[3,  3900] loss: 0.007\n",
      "[3,  4000] loss: 0.088\n",
      "[3,  4100] loss: 0.127\n",
      "[3,  4200] loss: 0.032\n",
      "[3,  4300] loss: 0.043\n",
      "[3,  4400] loss: 0.022\n",
      "[3,  4500] loss: 0.007\n",
      "[3,  4600] loss: 0.002\n",
      "[3,  4700] loss: 0.004\n",
      "[3,  4800] loss: 0.021\n",
      "[3,  4900] loss: 0.028\n",
      "[3,  5000] loss: 0.004\n",
      "[3,  5100] loss: 0.012\n",
      "[3,  5200] loss: 0.069\n",
      "[3,  5300] loss: 0.106\n",
      "[3,  5400] loss: 0.055\n",
      "[3,  5500] loss: 0.026\n",
      "[3,  5600] loss: 0.013\n",
      "[3,  5700] loss: 0.012\n",
      "[3,  5800] loss: 0.059\n",
      "[3,  5900] loss: 0.061\n",
      "[3,  6000] loss: 0.108\n",
      "[3,  6100] loss: 0.220\n",
      "[3,  6200] loss: 0.031\n",
      "[3,  6300] loss: 0.015\n",
      "[3,  6400] loss: 0.033\n",
      "[3,  6500] loss: 0.026\n",
      "[3,  6600] loss: 0.017\n",
      "[3,  6700] loss: 0.007\n",
      "[3,  6800] loss: 0.008\n",
      "[4,   100] loss: 0.169\n",
      "[4,   200] loss: 0.064\n",
      "[4,   300] loss: 0.040\n",
      "[4,   400] loss: 0.018\n",
      "[4,   500] loss: 0.033\n",
      "[4,   600] loss: 0.014\n",
      "[4,   700] loss: 0.003\n",
      "[4,   800] loss: 0.002\n",
      "[4,   900] loss: 0.002\n",
      "[4,  1000] loss: 0.008\n",
      "[4,  1100] loss: 0.001\n",
      "[4,  1200] loss: 0.002\n",
      "[4,  1300] loss: 0.001\n",
      "[4,  1400] loss: 0.000\n",
      "[4,  1500] loss: 0.000\n",
      "[4,  1600] loss: 0.001\n",
      "[4,  1700] loss: 0.001\n",
      "[4,  1800] loss: 0.001\n",
      "[4,  1900] loss: 0.000\n",
      "[4,  2000] loss: 0.000\n",
      "[4,  2100] loss: 0.000\n",
      "[4,  2200] loss: 0.000\n",
      "[4,  2300] loss: 0.001\n",
      "[4,  2400] loss: 0.000\n",
      "[4,  2500] loss: 0.000\n",
      "[4,  2600] loss: 0.001\n",
      "[4,  2700] loss: 0.000\n",
      "[4,  2800] loss: 0.000\n",
      "[4,  2900] loss: 0.000\n",
      "[4,  3000] loss: 0.000\n",
      "[4,  3100] loss: 0.000\n",
      "[4,  3200] loss: 0.000\n",
      "[4,  3300] loss: 0.000\n",
      "[4,  3400] loss: 0.000\n",
      "[4,  3500] loss: 0.000\n",
      "[4,  3600] loss: 0.000\n",
      "[4,  3700] loss: 0.000\n",
      "[4,  3800] loss: 0.474\n",
      "[4,  3900] loss: 0.374\n",
      "[4,  4000] loss: 0.063\n",
      "[4,  4100] loss: 0.144\n",
      "[4,  4200] loss: 0.169\n",
      "[4,  4300] loss: 0.136\n",
      "[4,  4400] loss: 0.031\n",
      "[4,  4500] loss: 0.035\n",
      "[4,  4600] loss: 0.023\n",
      "[4,  4700] loss: 0.032\n",
      "[4,  4800] loss: 0.075\n",
      "[4,  4900] loss: 0.020\n",
      "[4,  5000] loss: 0.018\n",
      "[4,  5100] loss: 0.017\n",
      "[4,  5200] loss: 0.004\n",
      "[4,  5300] loss: 0.003\n",
      "[4,  5400] loss: 0.007\n",
      "[4,  5500] loss: 0.002\n",
      "[4,  5600] loss: 0.001\n",
      "[4,  5700] loss: 0.004\n",
      "[4,  5800] loss: 0.008\n",
      "[4,  5900] loss: 0.193\n",
      "[4,  6000] loss: 0.065\n",
      "[4,  6100] loss: 0.036\n",
      "[4,  6200] loss: 0.042\n",
      "[4,  6300] loss: 0.052\n",
      "[4,  6400] loss: 0.084\n",
      "[4,  6500] loss: 0.068\n",
      "[4,  6600] loss: 0.035\n",
      "[4,  6700] loss: 0.138\n",
      "[4,  6800] loss: 0.124\n",
      "[5,   100] loss: 0.017\n",
      "[5,   200] loss: 0.007\n",
      "[5,   300] loss: 0.009\n",
      "[5,   400] loss: 0.005\n",
      "[5,   500] loss: 0.027\n",
      "[5,   600] loss: 0.066\n",
      "[5,   700] loss: 0.055\n",
      "[5,   800] loss: 0.108\n",
      "[5,   900] loss: 0.060\n",
      "[5,  1000] loss: 0.005\n",
      "[5,  1100] loss: 0.003\n",
      "[5,  1200] loss: 0.002\n",
      "[5,  1300] loss: 0.002\n",
      "[5,  1400] loss: 0.007\n",
      "[5,  1500] loss: 0.001\n",
      "[5,  1600] loss: 0.001\n",
      "[5,  1700] loss: 0.003\n",
      "[5,  1800] loss: 0.012\n",
      "[5,  1900] loss: 0.021\n",
      "[5,  2000] loss: 0.057\n",
      "[5,  2100] loss: 0.005\n",
      "[5,  2200] loss: 0.011\n",
      "[5,  2300] loss: 0.012\n",
      "[5,  2400] loss: 0.068\n",
      "[5,  2500] loss: 0.163\n",
      "[5,  2600] loss: 0.074\n",
      "[5,  2700] loss: 0.073\n",
      "[5,  2800] loss: 0.098\n",
      "[5,  2900] loss: 0.030\n",
      "[5,  3000] loss: 0.004\n",
      "[5,  3100] loss: 0.002\n",
      "[5,  3200] loss: 0.082\n",
      "[5,  3300] loss: 0.055\n",
      "[5,  3400] loss: 0.123\n",
      "[5,  3500] loss: 0.077\n",
      "[5,  3600] loss: 0.019\n",
      "[5,  3700] loss: 0.017\n",
      "[5,  3800] loss: 0.006\n",
      "[5,  3900] loss: 0.001\n",
      "[5,  4000] loss: 0.001\n",
      "[5,  4100] loss: 0.001\n",
      "[5,  4200] loss: 0.005\n",
      "[5,  4300] loss: 0.031\n",
      "[5,  4400] loss: 0.066\n",
      "[5,  4500] loss: 0.082\n",
      "[5,  4600] loss: 0.137\n",
      "[5,  4700] loss: 0.027\n",
      "[5,  4800] loss: 0.009\n",
      "[5,  4900] loss: 0.001\n",
      "[5,  5000] loss: 0.000\n",
      "[5,  5100] loss: 0.000\n",
      "[5,  5200] loss: 0.001\n",
      "[5,  5300] loss: 0.001\n",
      "[5,  5400] loss: 0.001\n",
      "[5,  5500] loss: 0.000\n",
      "[5,  5600] loss: 0.000\n",
      "[5,  5700] loss: 0.000\n",
      "[5,  5800] loss: 0.004\n",
      "[5,  5900] loss: 0.002\n",
      "[5,  6000] loss: 0.001\n",
      "[5,  6100] loss: 0.002\n",
      "[5,  6200] loss: 0.001\n",
      "[5,  6300] loss: 0.000\n",
      "[5,  6400] loss: 0.000\n",
      "[5,  6500] loss: 0.001\n",
      "[5,  6600] loss: 0.000\n",
      "[5,  6700] loss: 0.042\n",
      "[5,  6800] loss: 0.463\n",
      "[6,   100] loss: 0.062\n",
      "[6,   200] loss: 0.044\n",
      "[6,   300] loss: 0.030\n",
      "[6,   400] loss: 0.019\n",
      "[6,   500] loss: 0.042\n",
      "[6,   600] loss: 0.075\n",
      "[6,   700] loss: 0.133\n",
      "[6,   800] loss: 0.034\n",
      "[6,   900] loss: 0.030\n",
      "[6,  1000] loss: 0.016\n",
      "[6,  1100] loss: 0.007\n",
      "[6,  1200] loss: 0.008\n",
      "[6,  1300] loss: 0.007\n",
      "[6,  1400] loss: 0.001\n",
      "[6,  1500] loss: 0.017\n",
      "[6,  1600] loss: 0.021\n",
      "[6,  1700] loss: 0.019\n",
      "[6,  1800] loss: 0.015\n",
      "[6,  1900] loss: 0.003\n",
      "[6,  2000] loss: 0.001\n",
      "[6,  2100] loss: 0.000\n",
      "[6,  2200] loss: 0.003\n",
      "[6,  2300] loss: 0.023\n",
      "[6,  2400] loss: 0.029\n",
      "[6,  2500] loss: 0.035\n",
      "[6,  2600] loss: 0.033\n",
      "[6,  2700] loss: 0.108\n",
      "[6,  2800] loss: 0.068\n",
      "[6,  2900] loss: 0.188\n",
      "[6,  3000] loss: 0.115\n",
      "[6,  3100] loss: 0.034\n",
      "[6,  3200] loss: 0.020\n",
      "[6,  3300] loss: 0.026\n",
      "[6,  3400] loss: 0.056\n",
      "[6,  3500] loss: 0.040\n",
      "[6,  3600] loss: 0.010\n",
      "[6,  3700] loss: 0.006\n",
      "[6,  3800] loss: 0.002\n",
      "[6,  3900] loss: 0.005\n",
      "[6,  4000] loss: 0.001\n",
      "[6,  4100] loss: 0.005\n",
      "[6,  4200] loss: 0.002\n",
      "[6,  4300] loss: 0.002\n",
      "[6,  4400] loss: 0.000\n",
      "[6,  4500] loss: 0.000\n",
      "[6,  4600] loss: 0.020\n",
      "[6,  4700] loss: 0.119\n",
      "[6,  4800] loss: 0.132\n",
      "[6,  4900] loss: 0.029\n",
      "[6,  5000] loss: 0.076\n",
      "[6,  5100] loss: 0.150\n",
      "[6,  5200] loss: 0.036\n",
      "[6,  5300] loss: 0.057\n",
      "[6,  5400] loss: 0.117\n",
      "[6,  5500] loss: 0.030\n",
      "[6,  5600] loss: 0.026\n",
      "[6,  5700] loss: 0.062\n",
      "[6,  5800] loss: 0.031\n",
      "[6,  5900] loss: 0.005\n",
      "[6,  6000] loss: 0.025\n",
      "[6,  6100] loss: 0.039\n",
      "[6,  6200] loss: 0.030\n",
      "[6,  6300] loss: 0.092\n",
      "[6,  6400] loss: 0.006\n",
      "[6,  6500] loss: 0.017\n",
      "[6,  6600] loss: 0.006\n",
      "[6,  6700] loss: 0.004\n",
      "[6,  6800] loss: 0.004\n",
      "[7,   100] loss: 0.023\n",
      "[7,   200] loss: 0.002\n",
      "[7,   300] loss: 0.012\n",
      "[7,   400] loss: 0.006\n",
      "[7,   500] loss: 0.048\n",
      "[7,   600] loss: 0.113\n",
      "[7,   700] loss: 0.018\n",
      "[7,   800] loss: 0.004\n",
      "[7,   900] loss: 0.058\n",
      "[7,  1000] loss: 0.163\n",
      "[7,  1100] loss: 0.084\n",
      "[7,  1200] loss: 0.069\n",
      "[7,  1300] loss: 0.047\n",
      "[7,  1400] loss: 0.009\n",
      "[7,  1500] loss: 0.019\n",
      "[7,  1600] loss: 0.009\n",
      "[7,  1700] loss: 0.003\n",
      "[7,  1800] loss: 0.002\n",
      "[7,  1900] loss: 0.000\n",
      "[7,  2000] loss: 0.006\n",
      "[7,  2100] loss: 0.029\n",
      "[7,  2200] loss: 0.020\n",
      "[7,  2300] loss: 0.038\n",
      "[7,  2400] loss: 0.004\n",
      "[7,  2500] loss: 0.028\n",
      "[7,  2600] loss: 0.088\n",
      "[7,  2700] loss: 0.112\n",
      "[7,  2800] loss: 0.089\n",
      "[7,  2900] loss: 0.002\n",
      "[7,  3000] loss: 0.023\n",
      "[7,  3100] loss: 0.000\n",
      "[7,  3200] loss: 0.001\n",
      "[7,  3300] loss: 0.001\n",
      "[7,  3400] loss: 0.001\n",
      "[7,  3500] loss: 0.000\n",
      "[7,  3600] loss: 0.001\n",
      "[7,  3700] loss: 0.001\n",
      "[7,  3800] loss: 0.000\n",
      "[7,  3900] loss: 0.001\n",
      "[7,  4000] loss: 0.000\n",
      "[7,  4100] loss: 0.003\n",
      "[7,  4200] loss: 0.000\n",
      "[7,  4300] loss: 0.000\n",
      "[7,  4400] loss: 0.000\n",
      "[7,  4500] loss: 0.000\n",
      "[7,  4600] loss: 0.000\n",
      "[7,  4700] loss: 0.000\n",
      "[7,  4800] loss: 0.000\n",
      "[7,  4900] loss: 0.000\n",
      "[7,  5000] loss: 0.000\n",
      "[7,  5100] loss: 0.000\n",
      "[7,  5200] loss: 0.000\n",
      "[7,  5300] loss: 0.000\n",
      "[7,  5400] loss: 0.000\n",
      "[7,  5500] loss: 0.001\n",
      "[7,  5600] loss: 0.003\n",
      "[7,  5700] loss: 0.536\n",
      "[7,  5800] loss: 0.227\n",
      "[7,  5900] loss: 0.048\n",
      "[7,  6000] loss: 0.051\n",
      "[7,  6100] loss: 0.014\n",
      "[7,  6200] loss: 0.016\n",
      "[7,  6300] loss: 0.055\n",
      "[7,  6400] loss: 0.086\n",
      "[7,  6500] loss: 0.099\n",
      "[7,  6600] loss: 0.049\n",
      "[7,  6700] loss: 0.076\n",
      "[7,  6800] loss: 0.045\n",
      "[8,   100] loss: 0.002\n",
      "[8,   200] loss: 0.001\n",
      "[8,   300] loss: 0.011\n",
      "[8,   400] loss: 0.033\n",
      "[8,   500] loss: 0.099\n",
      "[8,   600] loss: 0.043\n",
      "[8,   700] loss: 0.144\n",
      "[8,   800] loss: 0.083\n",
      "[8,   900] loss: 0.050\n",
      "[8,  1000] loss: 0.010\n",
      "[8,  1100] loss: 0.001\n",
      "[8,  1200] loss: 0.025\n",
      "[8,  1300] loss: 0.089\n",
      "[8,  1400] loss: 0.063\n",
      "[8,  1500] loss: 0.003\n",
      "[8,  1600] loss: 0.015\n",
      "[8,  1700] loss: 0.002\n",
      "[8,  1800] loss: 0.001\n",
      "[8,  1900] loss: 0.000\n",
      "[8,  2000] loss: 0.000\n",
      "[8,  2100] loss: 0.000\n",
      "[8,  2200] loss: 0.000\n",
      "[8,  2300] loss: 0.001\n",
      "[8,  2400] loss: 0.000\n",
      "[8,  2500] loss: 0.000\n",
      "[8,  2600] loss: 0.000\n",
      "[8,  2700] loss: 0.000\n",
      "[8,  2800] loss: 0.001\n",
      "[8,  2900] loss: 0.000\n",
      "[8,  3000] loss: 0.000\n",
      "[8,  3100] loss: 0.000\n",
      "[8,  3200] loss: 0.000\n",
      "[8,  3300] loss: 0.000\n",
      "[8,  3400] loss: 0.003\n",
      "[8,  3500] loss: 0.227\n",
      "[8,  3600] loss: 0.138\n",
      "[8,  3700] loss: 0.246\n",
      "[8,  3800] loss: 0.032\n",
      "[8,  3900] loss: 0.080\n",
      "[8,  4000] loss: 0.095\n",
      "[8,  4100] loss: 0.151\n",
      "[8,  4200] loss: 0.086\n",
      "[8,  4300] loss: 0.001\n",
      "[8,  4400] loss: 0.021\n",
      "[8,  4500] loss: 0.038\n",
      "[8,  4600] loss: 0.002\n",
      "[8,  4700] loss: 0.074\n",
      "[8,  4800] loss: 0.023\n",
      "[8,  4900] loss: 0.002\n",
      "[8,  5000] loss: 0.001\n",
      "[8,  5100] loss: 0.000\n",
      "[8,  5200] loss: 0.000\n",
      "[8,  5300] loss: 0.000\n",
      "[8,  5400] loss: 0.000\n",
      "[8,  5500] loss: 0.000\n",
      "[8,  5600] loss: 0.000\n",
      "[8,  5700] loss: 0.000\n",
      "[8,  5800] loss: 0.001\n",
      "[8,  5900] loss: 0.000\n",
      "[8,  6000] loss: 0.000\n",
      "[8,  6100] loss: 0.000\n",
      "[8,  6200] loss: 0.000\n",
      "[8,  6300] loss: 0.000\n",
      "[8,  6400] loss: 0.000\n",
      "[8,  6500] loss: 0.000\n",
      "[8,  6600] loss: 0.000\n",
      "[8,  6700] loss: 0.000\n",
      "[8,  6800] loss: 0.005\n",
      "[9,   100] loss: 0.249\n",
      "[9,   200] loss: 0.053\n",
      "[9,   300] loss: 0.006\n",
      "[9,   400] loss: 0.008\n",
      "[9,   500] loss: 0.025\n",
      "[9,   600] loss: 0.228\n",
      "[9,   700] loss: 0.253\n",
      "[9,   800] loss: 0.030\n",
      "[9,   900] loss: 0.009\n",
      "[9,  1000] loss: 0.005\n",
      "[9,  1100] loss: 0.044\n",
      "[9,  1200] loss: 0.026\n",
      "[9,  1300] loss: 0.057\n",
      "[9,  1400] loss: 0.025\n",
      "[9,  1500] loss: 0.019\n",
      "[9,  1600] loss: 0.012\n",
      "[9,  1700] loss: 0.103\n",
      "[9,  1800] loss: 0.155\n",
      "[9,  1900] loss: 0.183\n",
      "[9,  2000] loss: 0.068\n",
      "[9,  2100] loss: 0.028\n",
      "[9,  2200] loss: 0.033\n",
      "[9,  2300] loss: 0.015\n",
      "[9,  2400] loss: 0.009\n",
      "[9,  2500] loss: 0.006\n",
      "[9,  2600] loss: 0.018\n",
      "[9,  2700] loss: 0.017\n",
      "[9,  2800] loss: 0.042\n",
      "[9,  2900] loss: 0.007\n",
      "[9,  3000] loss: 0.001\n",
      "[9,  3100] loss: 0.020\n",
      "[9,  3200] loss: 0.074\n",
      "[9,  3300] loss: 0.102\n",
      "[9,  3400] loss: 0.033\n",
      "[9,  3500] loss: 0.019\n",
      "[9,  3600] loss: 0.040\n",
      "[9,  3700] loss: 0.068\n",
      "[9,  3800] loss: 0.008\n",
      "[9,  3900] loss: 0.009\n",
      "[9,  4000] loss: 0.055\n",
      "[9,  4100] loss: 0.029\n",
      "[9,  4200] loss: 0.197\n",
      "[9,  4300] loss: 0.176\n",
      "[9,  4400] loss: 0.007\n",
      "[9,  4500] loss: 0.019\n",
      "[9,  4600] loss: 0.042\n",
      "[9,  4700] loss: 0.004\n",
      "[9,  4800] loss: 0.004\n",
      "[9,  4900] loss: 0.000\n",
      "[9,  5000] loss: 0.000\n",
      "[9,  5100] loss: 0.002\n",
      "[9,  5200] loss: 0.002\n",
      "[9,  5300] loss: 0.000\n",
      "[9,  5400] loss: 0.000\n",
      "[9,  5500] loss: 0.000\n",
      "[9,  5600] loss: 0.000\n",
      "[9,  5700] loss: 0.000\n",
      "[9,  5800] loss: 0.000\n",
      "[9,  5900] loss: 0.000\n",
      "[9,  6000] loss: 0.000\n",
      "[9,  6100] loss: 0.012\n",
      "[9,  6200] loss: 0.047\n",
      "[9,  6300] loss: 0.031\n",
      "[9,  6400] loss: 0.149\n",
      "[9,  6500] loss: 0.441\n",
      "[9,  6600] loss: 0.170\n",
      "[9,  6700] loss: 0.090\n",
      "[9,  6800] loss: 0.002\n",
      "[10,   100] loss: 0.001\n",
      "[10,   200] loss: 0.000\n",
      "[10,   300] loss: 0.000\n",
      "[10,   400] loss: 0.000\n",
      "[10,   500] loss: 0.001\n",
      "[10,   600] loss: 0.000\n",
      "[10,   700] loss: 0.000\n",
      "[10,   800] loss: 0.000\n",
      "[10,   900] loss: 0.000\n",
      "[10,  1000] loss: 0.000\n",
      "[10,  1100] loss: 0.000\n",
      "[10,  1200] loss: 0.000\n",
      "[10,  1300] loss: 0.000\n",
      "[10,  1400] loss: 0.000\n",
      "[10,  1500] loss: 0.000\n",
      "[10,  1600] loss: 0.000\n",
      "[10,  1700] loss: 0.000\n",
      "[10,  1800] loss: 0.000\n",
      "[10,  1900] loss: 0.000\n",
      "[10,  2000] loss: 0.000\n",
      "[10,  2100] loss: 0.000\n",
      "[10,  2200] loss: 0.000\n",
      "[10,  2300] loss: 0.000\n",
      "[10,  2400] loss: 0.000\n",
      "[10,  2500] loss: 0.000\n",
      "[10,  2600] loss: 0.000\n",
      "[10,  2700] loss: 0.000\n",
      "[10,  2800] loss: 0.000\n",
      "[10,  2900] loss: 0.000\n",
      "[10,  3000] loss: 0.000\n",
      "[10,  3100] loss: 0.000\n",
      "[10,  3200] loss: 0.000\n",
      "[10,  3300] loss: 0.000\n",
      "[10,  3400] loss: 0.000\n",
      "[10,  3500] loss: 0.000\n",
      "[10,  3600] loss: 0.000\n",
      "[10,  3700] loss: 0.000\n",
      "[10,  3800] loss: 0.000\n",
      "[10,  3900] loss: 0.000\n",
      "[10,  4000] loss: 0.000\n",
      "[10,  4100] loss: 0.000\n",
      "[10,  4200] loss: 0.000\n",
      "[10,  4300] loss: 0.000\n",
      "[10,  4400] loss: 0.000\n",
      "[10,  4500] loss: 0.000\n",
      "[10,  4600] loss: 0.000\n",
      "[10,  4700] loss: 0.000\n",
      "[10,  4800] loss: 0.000\n",
      "[10,  4900] loss: 0.000\n",
      "[10,  5000] loss: 0.000\n",
      "[10,  5100] loss: 0.000\n",
      "[10,  5200] loss: 0.000\n",
      "[10,  5300] loss: 0.000\n",
      "[10,  5400] loss: 0.000\n",
      "[10,  5500] loss: 0.000\n",
      "[10,  5600] loss: 0.000\n",
      "[10,  5700] loss: 0.000\n",
      "[10,  5800] loss: 0.000\n",
      "[10,  5900] loss: 0.000\n",
      "[10,  6000] loss: 0.000\n",
      "[10,  6100] loss: 0.000\n",
      "[10,  6200] loss: 0.000\n",
      "[10,  6300] loss: 0.000\n",
      "[10,  6400] loss: 0.000\n",
      "[10,  6500] loss: 0.000\n",
      "[10,  6600] loss: 0.000\n",
      "[10,  6700] loss: 0.000\n",
      "[10,  6800] loss: 0.000\n",
      "Finished Training\n"
     ]
    }
   ],
   "source": [
    "data_tensor = torch.Tensor(data).view(-1, 1, 28, 28)  \n",
    "labels_tensor = torch.Tensor(labels).long().squeeze()  \n",
    "\n",
    "\n",
    "dataset = TensorDataset(data_tensor, labels_tensor)\n",
    "data_loader = DataLoader(dataset, batch_size=4, shuffle=True)\n",
    "\n",
    "\n",
    "criterion = nn.CrossEntropyLoss()\n",
    "optimizer = optim.Adam(net.parameters(), lr=0.001)\n",
    "\n",
    "num_epochs = 10  \n",
    "for epoch in range(num_epochs):\n",
    "    running_loss = 0.0\n",
    "    for i, data in enumerate(data_loader, 0):\n",
    "        \n",
    "        inputs, labels = data\n",
    "        inputs, labels = inputs.to(device), labels.to(device)\n",
    "\n",
    "        \n",
    "        optimizer.zero_grad()\n",
    "\n",
    "        \n",
    "        outputs = net(inputs)\n",
    "\n",
    "        \n",
    "        loss = criterion(outputs, labels)\n",
    "\n",
    "        \n",
    "        loss.backward()\n",
    "        optimizer.step()\n",
    "\n",
    "        \n",
    "        running_loss += loss.item()\n",
    "        if i % 100 == 99:  \n",
    "            print('[%d, %5d] loss: %.3f' %\n",
    "                  (epoch + 1, i + 1, running_loss / 100))\n",
    "            running_loss = 0.0\n",
    "\n",
    "print('Finished Training')"
   ]
  },
  {
   "cell_type": "markdown",
   "id": "997b4a81",
   "metadata": {},
   "source": [
    "# Observing Accuracy of CNN on Test Data"
   ]
  },
  {
   "cell_type": "code",
   "execution_count": 28,
   "id": "722f999e",
   "metadata": {},
   "outputs": [
    {
     "name": "stdout",
     "output_type": "stream",
     "text": [
      "Accuracy of the network on the test images: 93.67%\n",
      "Accuracy of the network on the test images: 93.67%\n"
     ]
    }
   ],
   "source": [
    "test_data_tensor = torch.Tensor(test_data).view(-1, 1, 28, 28)\n",
    "test_labels_tensor = torch.Tensor(test_labels).long().squeeze()\n",
    "\n",
    "\n",
    "test_dataset = TensorDataset(test_data_tensor, test_labels_tensor)\n",
    "test_loader = DataLoader(test_dataset, batch_size=4, shuffle=False)\n",
    "\n",
    "\n",
    "net.eval()  \n",
    "correct = 0\n",
    "total = 0\n",
    "with torch.no_grad():  \n",
    "    for data in test_loader:\n",
    "        images, labels = data\n",
    "        images, labels = images.to(device), labels.to(device)\n",
    "\n",
    "        \n",
    "        outputs = net(images)\n",
    "\n",
    "        \n",
    "        _, predicted = torch.max(outputs.data, 1)\n",
    "\n",
    "        \n",
    "        total += labels.size(0)\n",
    "\n",
    "        \n",
    "        correct += (predicted == labels).sum().item()\n",
    "\n",
    "\n",
    "test_data_tensor = torch.Tensor(test_data).view(-1, 1, 28, 28)\n",
    "test_labels_tensor = torch.Tensor(test_labels).long().squeeze()\n",
    "\n",
    "\n",
    "test_dataset = TensorDataset(test_data_tensor, test_labels_tensor)\n",
    "test_loader = DataLoader(test_dataset, batch_size=4, shuffle=False)\n",
    "\n",
    "\n",
    "net.eval()  \n",
    "correct = 0\n",
    "total = 0\n",
    "with torch.no_grad():  \n",
    "    for data in test_loader:\n",
    "        images, labels = data\n",
    "        images, labels = images.to(device), labels.to(device)\n",
    "\n",
    "        \n",
    "        outputs = net(images)\n",
    "\n",
    "        \n",
    "        _, predicted = torch.max(outputs.data, 1)\n",
    "\n",
    "        \n",
    "        total += labels.size(0)\n",
    "\n",
    "        \n",
    "        correct += (predicted == labels).sum().item()\n",
    "\n",
    "\n",
    "accuracy = 100 * correct / total\n",
    "print(f'Accuracy : {accuracy:.2f}%')"
   ]
  },
  {
   "cell_type": "code",
   "execution_count": null,
   "id": "fe2ec2d5",
   "metadata": {},
   "outputs": [],
   "source": []
  }
 ],
 "metadata": {
  "kernelspec": {
   "display_name": "Python 3 (ipykernel)",
   "language": "python",
   "name": "python3"
  },
  "language_info": {
   "codemirror_mode": {
    "name": "ipython",
    "version": 3
   },
   "file_extension": ".py",
   "mimetype": "text/x-python",
   "name": "python",
   "nbconvert_exporter": "python",
   "pygments_lexer": "ipython3",
   "version": "3.9.5"
  }
 },
 "nbformat": 4,
 "nbformat_minor": 5
}
